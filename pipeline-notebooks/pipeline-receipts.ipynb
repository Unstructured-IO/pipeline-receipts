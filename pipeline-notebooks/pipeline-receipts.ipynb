{
 "cells": [
  {
   "cell_type": "markdown",
   "id": "311533b1",
   "metadata": {},
   "source": [
    "### API definition"
   ]
  },
  {
   "cell_type": "code",
   "execution_count": null,
   "id": "ad8d7ece",
   "metadata": {},
   "outputs": [],
   "source": [
    "# pipeline-api\n",
    "from typing import Dict"
   ]
  },
  {
   "cell_type": "code",
   "execution_count": null,
   "id": "75e11b4b",
   "metadata": {},
   "outputs": [],
   "source": [
    "# pipeline-api\n",
    "from prepline_receipts.donut import generate_outputs\n",
    "from prepline_receipts.donut import select_fields, clean_fields, price_rule"
   ]
  },
  {
   "cell_type": "code",
   "execution_count": null,
   "id": "315a97cf",
   "metadata": {},
   "outputs": [],
   "source": [
    "# pipeline-api\n",
    "def partition_receipts(file, filename:str=\"\", file_content_type=None) -> Dict:\n",
    "    \"\"\"This api call definition parse a receipt from a file image\"\"\"\n",
    "    return generate_outputs(image=file, filename=filename)"
   ]
  },
  {
   "cell_type": "code",
   "execution_count": null,
   "id": "bac2db80",
   "metadata": {},
   "outputs": [],
   "source": [
    "# pipeline-api\n",
    "def select_items(doc, selected_fields: list) -> Dict:\n",
    "    \"\"\"Extract only the selected fields from a document\"\"\"\n",
    "    return select_fields(doc, selected_fields)"
   ]
  },
  {
   "cell_type": "code",
   "execution_count": null,
   "id": "5da1a20c",
   "metadata": {},
   "outputs": [],
   "source": [
    "# pipeline-api\n",
    "def clean_items(doc, rule_fnc=price_rule) -> Dict:\n",
    "    \"\"\"Cleans all the extracted values from the items applying a filtering \n",
    "    boolean function\"\"\"\n",
    "    return clean_fields(doc, rule=rule_fnc)"
   ]
  },
  {
   "cell_type": "code",
   "execution_count": null,
   "id": "69553b33",
   "metadata": {},
   "outputs": [],
   "source": [
    "# pipeline-api\n",
    "def pipeline_api(file, filename:str=\"\", file_content_type=None, m_cleaning_fnc:list=[], \n",
    "                 m_include_fields:list=[]):\n",
    "    \"\"\"Partition a receipt by calling the pipeline_api and cleaning the output\n",
    "    using a list of cleaning functions and list of selected_fields\"\"\"\n",
    "    parsed_doc = partition_receipts(file=file, filename=filename, file_content_type=file_content_type)\n",
    "    if m_include_fields:\n",
    "        parsed_doc = select_items(parsed_doc, selected_fields=m_include_fields)\n",
    "    for cleaning_fnc in m_cleaning_fnc:\n",
    "        parsed_doc = clean_items(parsed_doc, rule_fnc=cleaning_fnc)\n",
    "    return {\"parsed_doc\": parsed_doc}"
   ]
  }
 ],
 "metadata": {
  "kernelspec": {
   "display_name": "python3",
   "language": "python",
   "name": "python3"
  }
 },
 "nbformat": 4,
 "nbformat_minor": 5
}
