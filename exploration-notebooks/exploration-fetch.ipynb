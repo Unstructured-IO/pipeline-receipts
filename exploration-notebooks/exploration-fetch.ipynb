{
 "cells": [
  {
   "cell_type": "code",
   "execution_count": 1,
   "id": "d07cb46e",
   "metadata": {},
   "outputs": [
    {
     "name": "stdout",
     "output_type": "stream",
     "text": [
      "/Users/laverde/Documents/github/fix/pipeline-receipts\n"
     ]
    }
   ],
   "source": [
    "# Change working directory\n",
    "%cd .."
   ]
  },
  {
   "cell_type": "code",
   "execution_count": 2,
   "id": "fb541f61",
   "metadata": {},
   "outputs": [],
   "source": [
    "import os\n",
    "\n",
    "from prepline_receipts.fetch import query_cord, sample_cord"
   ]
  },
  {
   "cell_type": "code",
   "execution_count": 3,
   "id": "4bb5c1dc",
   "metadata": {},
   "outputs": [
    {
     "name": "stdout",
     "output_type": "stream",
     "text": [
      "cwd: \t\t    /Users/laverde/Documents/github/fix/pipeline-receipts\n",
      "samples directory:  /Users/laverde/Documents/github/fix/pipeline-receipts/sample-docs\n",
      "\n",
      "extracting data from url...\n",
      "new sample data folder created!\n",
      "(/Users/laverde/Documents/github/fix/pipeline-receipts/sample-docs/CORD-v2/train)\n",
      "done\n"
     ]
    }
   ],
   "source": [
    "CWD = os.getcwd()\n",
    "SAMPLE_DOCS_DIRECTORY = os.path.join(CWD.replace(\"/pipeline-notebooks\", \"\"), \"sample-docs\")\n",
    "TARGET_NUMBER_OF_SAMPLES = 0  # 0 for all\n",
    "DATASET_NAME = \"CORD-v2/train\"\n",
    "SAVE = True\n",
    "\n",
    "print(\"cwd: \\t\\t   \", CWD)\n",
    "print(\"samples directory: \", SAMPLE_DOCS_DIRECTORY)\n",
    "\n",
    "data = query_cord()\n",
    "print(\"\\nextracting data from url...\")\n",
    "urls, responses_content = sample_cord(data, number_of_samples=TARGET_NUMBER_OF_SAMPLES)\n",
    "\n",
    "if SAVE:\n",
    "    data_path = f'{SAMPLE_DOCS_DIRECTORY}/{DATASET_NAME}'\n",
    "    if not os.path.exists(data_path):\n",
    "        os.makedirs(data_path)\n",
    "        print(f\"new sample data folder created!\\n({data_path})\")\n",
    "    \n",
    "    for ix, response_content in enumerate(responses_content):\n",
    "        with open(f'{data_path}/sample-receipt-{ix}.jpg', 'wb') as receipt_file:\n",
    "            receipt_file.write(response_content)\n",
    "print(\"done\")"
   ]
  },
  {
   "cell_type": "code",
   "execution_count": null,
   "id": "0aa3cba7",
   "metadata": {},
   "outputs": [],
   "source": []
  }
 ],
 "metadata": {
  "kernelspec": {
   "display_name": "Python 3 (ipykernel)",
   "language": "python",
   "name": "python3"
  },
  "language_info": {
   "codemirror_mode": {
    "name": "ipython",
    "version": 3
   },
   "file_extension": ".py",
   "mimetype": "text/x-python",
   "name": "python",
   "nbconvert_exporter": "python",
   "pygments_lexer": "ipython3",
   "version": "3.8.16"
  }
 },
 "nbformat": 4,
 "nbformat_minor": 5
}
